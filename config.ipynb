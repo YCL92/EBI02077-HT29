{
 "cells": [
  {
   "cell_type": "markdown",
   "metadata": {},
   "source": [
    "# Network Configuration"
   ]
  },
  {
   "cell_type": "code",
   "execution_count": null,
   "metadata": {
    "code_folding": []
   },
   "outputs": [],
   "source": [
    "from torch import device, cuda\n",
    "\n",
    "\n",
    "class Config():\n",
    "\n",
    "    def __init__(self):\n",
    "        # path to dataset and checkpoint\n",
    "        self.data_path = './datasets/Images'\n",
    "        self.save_path = './saves'\n",
    "\n",
    "        # dataset partition\n",
    "        self.data_part = [10, 4]  # 70-30\n",
    "\n",
    "        # network parameters\n",
    "        self.crop_size = 128  # random crop size\n",
    "        self.lr = 1e-4  # initial learning rate\n",
    "        self.max_epoch = 1000  # number of epoch\n",
    "\n",
    "        # clustering params\n",
    "        self.top_n = 50  # top n iou\n",
    "        self.win_stride = 32  # stride of the sliding window\n",
    "\n",
    "        # other parameters\n",
    "        self.batch_size = 5  # mini-batch size\n",
    "        self.num_workers = 5  # parallel cores\n",
    "        self.seed = 18147011996997136142  # random seed\n",
    "        self.device = device('cuda:0' if cuda.is_available() else 'cpu')"
   ]
  }
 ],
 "metadata": {
  "kernelspec": {
   "display_name": "Python 3 (ipykernel)",
   "language": "python",
   "name": "python3"
  },
  "language_info": {
   "codemirror_mode": {
    "name": "ipython",
    "version": 3
   },
   "file_extension": ".py",
   "mimetype": "text/x-python",
   "name": "python",
   "nbconvert_exporter": "python",
   "pygments_lexer": "ipython3",
   "version": "3.8.10"
  },
  "toc": {
   "nav_menu": {},
   "number_sections": true,
   "sideBar": true,
   "skip_h1_title": true,
   "title_cell": "Table of Contents",
   "title_sidebar": "Contents",
   "toc_cell": false,
   "toc_position": {},
   "toc_section_display": true,
   "toc_window_display": false
  },
  "varInspector": {
   "cols": {
    "lenName": 16,
    "lenType": 16,
    "lenVar": 40
   },
   "kernels_config": {
    "python": {
     "delete_cmd_postfix": "",
     "delete_cmd_prefix": "del ",
     "library": "var_list.py",
     "varRefreshCmd": "print(var_dic_list())"
    },
    "r": {
     "delete_cmd_postfix": ") ",
     "delete_cmd_prefix": "rm(",
     "library": "var_list.r",
     "varRefreshCmd": "cat(var_dic_list()) "
    }
   },
   "types_to_exclude": [
    "module",
    "function",
    "builtin_function_or_method",
    "instance",
    "_Feature"
   ],
   "window_display": false
  }
 },
 "nbformat": 4,
 "nbformat_minor": 2
}
