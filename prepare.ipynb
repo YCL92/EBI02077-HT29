{
 "cells": [
  {
   "cell_type": "markdown",
   "metadata": {},
   "source": [
    "# Preparing foreground & background masks"
   ]
  },
  {
   "cell_type": "markdown",
   "metadata": {
    "heading_collapsed": true
   },
   "source": [
    "## Includes"
   ]
  },
  {
   "cell_type": "code",
   "execution_count": null,
   "metadata": {
    "code_folding": [
     0
    ],
    "hidden": true
   },
   "outputs": [],
   "source": [
    "# mass includes\n",
    "import os, sys, warnings\n",
    "import torch as t\n",
    "from sklearn import mixture\n",
    "from PIL import Image\n",
    "from tqdm.notebook import tqdm\n",
    "\n",
    "# add paths for all sub-folders\n",
    "paths = [root for root, _, _ in os.walk('.')\\\n",
    "         if 'evals' not in root]\n",
    "for item in paths:\n",
    "    sys.path.append(item)\n",
    "\n",
    "from ipynb.fs.full.config import Config\n",
    "from ipynb.fs.full.dataLoader import *"
   ]
  },
  {
   "cell_type": "markdown",
   "metadata": {
    "heading_collapsed": true
   },
   "source": [
    "## Initialization"
   ]
  },
  {
   "cell_type": "code",
   "execution_count": null,
   "metadata": {
    "code_folding": [
     0
    ],
    "hidden": true,
    "scrolled": true
   },
   "outputs": [],
   "source": [
    "# load config\n",
    "opt = Config()\n",
    "\n",
    "# dataset for training\n",
    "train_dataset = ImageSet(opt,\n",
    "                         mode='all',\n",
    "                         norm=False,\n",
    "                         rand_trans=False,\n",
    "                         mask_out=False)\n",
    "train_loader = t.utils.data.DataLoader(train_dataset)"
   ]
  },
  {
   "cell_type": "markdown",
   "metadata": {},
   "source": [
    "## Generate masks"
   ]
  },
  {
   "cell_type": "code",
   "execution_count": null,
   "metadata": {
    "code_folding": [
     0
    ]
   },
   "outputs": [],
   "source": [
    "# loop over all images\n",
    "for img, f_name in tqdm(train_loader, desc='progress',\n",
    "                        total=len(train_loader)):\n",
    "    img = img.squeeze()\n",
    "\n",
    "    # fit binary GMM and predict labels\n",
    "    in_data = img.permute(0, 2, 3, 1).reshape(-1, 3).numpy()\n",
    "    gmm = mixture.GaussianMixture(n_components=2,\n",
    "                                  covariance_type='full',\n",
    "                                  init_params='k-means++',\n",
    "                                  max_iter=1000,\n",
    "                                  random_state=42).fit(in_data)\n",
    "\n",
    "    _, _, h, w = img.size()\n",
    "    labels = gmm.predict(in_data)\n",
    "\n",
    "    # generate binary mask (assume dominant class is the background, experimental)\n",
    "    means = gmm.means_.sum(-1)\n",
    "    if np.sum(1 - labels) > np.sum(labels):\n",
    "        mask = labels.reshape(4, h, w).astype('bool')\n",
    "    else:\n",
    "        mask = (1 - labels.reshape(4, h, w)).astype('bool')\n",
    "\n",
    "    # save mask to image\n",
    "    for f_idx in range(4):\n",
    "        file_path = os.path.join(opt.data_path, f_name[f_idx][0] + '-mask.png')\n",
    "        mask_img = Image.fromarray(mask[f_idx, :, :])\n",
    "        mask_img.save(file_path, bits=1, optimize=True)"
   ]
  }
 ],
 "metadata": {
  "kernelspec": {
   "display_name": "Python 3 (ipykernel)",
   "language": "python",
   "name": "python3"
  },
  "language_info": {
   "codemirror_mode": {
    "name": "ipython",
    "version": 3
   },
   "file_extension": ".py",
   "mimetype": "text/x-python",
   "name": "python",
   "nbconvert_exporter": "python",
   "pygments_lexer": "ipython3",
   "version": "3.8.10"
  },
  "toc": {
   "nav_menu": {},
   "number_sections": true,
   "sideBar": true,
   "skip_h1_title": true,
   "title_cell": "Table of Contents",
   "title_sidebar": "Contents",
   "toc_cell": false,
   "toc_position": {},
   "toc_section_display": true,
   "toc_window_display": false
  },
  "varInspector": {
   "cols": {
    "lenName": 16,
    "lenType": 16,
    "lenVar": 40
   },
   "kernels_config": {
    "python": {
     "delete_cmd_postfix": "",
     "delete_cmd_prefix": "del ",
     "library": "var_list.py",
     "varRefreshCmd": "print(var_dic_list())"
    },
    "r": {
     "delete_cmd_postfix": ") ",
     "delete_cmd_prefix": "rm(",
     "library": "var_list.r",
     "varRefreshCmd": "cat(var_dic_list()) "
    }
   },
   "types_to_exclude": [
    "module",
    "function",
    "builtin_function_or_method",
    "instance",
    "_Feature"
   ],
   "window_display": false
  }
 },
 "nbformat": 4,
 "nbformat_minor": 2
}
