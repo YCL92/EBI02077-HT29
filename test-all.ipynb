{
 "cells": [
  {
   "cell_type": "markdown",
   "metadata": {},
   "source": [
    "# Network Testing"
   ]
  },
  {
   "cell_type": "markdown",
   "metadata": {
    "heading_collapsed": true
   },
   "source": [
    "## Includes"
   ]
  },
  {
   "cell_type": "code",
   "execution_count": null,
   "metadata": {
    "code_folding": [
     0
    ],
    "hidden": true
   },
   "outputs": [],
   "source": [
    "# mass includes\n",
    "import os, sys, warnings\n",
    "import torch as t\n",
    "from pickle import dump\n",
    "from tqdm.notebook import tqdm\n",
    "\n",
    "# add paths for all sub-folders\n",
    "paths = [root for root, _, _ in os.walk('.')\\\n",
    "         if 'evals' not in root]\n",
    "for item in paths:\n",
    "    sys.path.append(item)\n",
    "\n",
    "from ipynb.fs.full.config import Config\n",
    "from ipynb.fs.full.network import *\n",
    "from ipynb.fs.full.dataLoader import *\n",
    "from ipynb.fs.full.util import *"
   ]
  },
  {
   "cell_type": "markdown",
   "metadata": {
    "heading_collapsed": true
   },
   "source": [
    "## Initialization"
   ]
  },
  {
   "cell_type": "code",
   "execution_count": null,
   "metadata": {
    "code_folding": [
     0
    ],
    "hidden": true,
    "scrolled": true
   },
   "outputs": [],
   "source": [
    "# define models\n",
    "opt = Config()\n",
    "net_enc = Encoder().to(opt.device)\n",
    "net_sum = Summarizer().to(opt.device)\n",
    "\n",
    "# load pre-trained weights\n",
    "net_enc.load()\n",
    "net_sum.load()\n",
    "\n",
    "# dataset for testing\n",
    "test_dataset = ImageSet(opt, mode='test')\n",
    "test_loader = t.utils.data.DataLoader(test_dataset)\n",
    "\n",
    "# make folders\n",
    "feature_path = os.path.join(opt.save_path, 'features')\n",
    "if os.path.exists(feature_path) is False:\n",
    "    os.makedirs(feature_path)"
   ]
  },
  {
   "cell_type": "markdown",
   "metadata": {},
   "source": [
    "## Testing entry"
   ]
  },
  {
   "cell_type": "code",
   "execution_count": null,
   "metadata": {
    "code_folding": [
     0
    ]
   },
   "outputs": [],
   "source": [
    "# set to evaluation mode\n",
    "net_enc.eval()\n",
    "net_sum.eval()\n",
    "\n",
    "for (img, f_name) in tqdm(test_loader, desc='progress',\n",
    "                          total=len(test_loader)):\n",
    "    # copy to device\n",
    "    img = img.to(opt.device)\n",
    "\n",
    "    with t.no_grad():\n",
    "        # extract local encodings\n",
    "        pred_loc_feats = net_enc(img)\n",
    "\n",
    "        # extract global encodings\n",
    "        pred_glb_feats = net_sum(pred_loc_feats)\n",
    "\n",
    "    # save predictions to file\n",
    "    save_dict = {\n",
    "        'local_feats': pred_loc_feats.cpu().numpy(),\n",
    "        'global_feats': pred_glb_feats.cpu().numpy()\n",
    "    }\n",
    "    file_path = os.path.join(feature_path, f_name[0] + '.pkl')\n",
    "    with open(file_path, 'wb') as file:\n",
    "        dump(save_dict, file)"
   ]
  }
 ],
 "metadata": {
  "kernelspec": {
   "display_name": "Python 3 (ipykernel)",
   "language": "python",
   "name": "python3"
  },
  "language_info": {
   "codemirror_mode": {
    "name": "ipython",
    "version": 3
   },
   "file_extension": ".py",
   "mimetype": "text/x-python",
   "name": "python",
   "nbconvert_exporter": "python",
   "pygments_lexer": "ipython3",
   "version": "3.8.16"
  },
  "toc": {
   "nav_menu": {},
   "number_sections": true,
   "sideBar": true,
   "skip_h1_title": true,
   "title_cell": "Table of Contents",
   "title_sidebar": "Contents",
   "toc_cell": false,
   "toc_position": {},
   "toc_section_display": true,
   "toc_window_display": false
  },
  "varInspector": {
   "cols": {
    "lenName": 16,
    "lenType": 16,
    "lenVar": 40
   },
   "kernels_config": {
    "python": {
     "delete_cmd_postfix": "",
     "delete_cmd_prefix": "del ",
     "library": "var_list.py",
     "varRefreshCmd": "print(var_dic_list())"
    },
    "r": {
     "delete_cmd_postfix": ") ",
     "delete_cmd_prefix": "rm(",
     "library": "var_list.r",
     "varRefreshCmd": "cat(var_dic_list()) "
    }
   },
   "types_to_exclude": [
    "module",
    "function",
    "builtin_function_or_method",
    "instance",
    "_Feature"
   ],
   "window_display": false
  }
 },
 "nbformat": 4,
 "nbformat_minor": 2
}
