{
 "cells": [
  {
   "cell_type": "markdown",
   "metadata": {},
   "source": [
    "# Network Training"
   ]
  },
  {
   "cell_type": "markdown",
   "metadata": {
    "heading_collapsed": true
   },
   "source": [
    "## Includes"
   ]
  },
  {
   "cell_type": "code",
   "execution_count": null,
   "metadata": {
    "code_folding": [
     0
    ],
    "hidden": true
   },
   "outputs": [],
   "source": [
    "# mass includes\n",
    "import os, sys, warnings\n",
    "import torch as t\n",
    "import torchnet as tnt\n",
    "import random\n",
    "from tqdm.notebook import tqdm\n",
    "\n",
    "# add paths for all sub-folders\n",
    "paths = [root for root, _, _ in os.walk('.')\\\n",
    "         if 'evals' not in root]\n",
    "for item in paths:\n",
    "    sys.path.append(item)\n",
    "\n",
    "from ipynb.fs.full.config import Config\n",
    "from ipynb.fs.full.monitor import Visualizer\n",
    "from ipynb.fs.full.network import *\n",
    "from ipynb.fs.full.dataLoader import *\n",
    "from ipynb.fs.full.util import *"
   ]
  },
  {
   "cell_type": "markdown",
   "metadata": {
    "heading_collapsed": true
   },
   "source": [
    "## Initialization"
   ]
  },
  {
   "cell_type": "code",
   "execution_count": null,
   "metadata": {
    "code_folding": [
     0
    ],
    "hidden": true,
    "scrolled": true
   },
   "outputs": [],
   "source": [
    "# load config\n",
    "opt = Config()\n",
    "\n",
    "# setup random environment\n",
    "if opt.seed is None:\n",
    "    seed = t.seed()\n",
    "else:\n",
    "    seed = opt.seed\n",
    "t.manual_seed(seed)\n",
    "random.seed(seed % 2**32)\n",
    "np.random.seed(seed % 2**32)\n",
    "print('Use seed', seed)\n",
    "\n",
    "# define models\n",
    "net_enc = Encoder().to(opt.device)\n",
    "net_sum = Summarizer().to(opt.device)\n",
    "net_mi_disc = MIDiscriminator().to(opt.device)\n",
    "\n",
    "# dataset for training\n",
    "train_dataset = ImageSet(opt, mode='train')\n",
    "train_loader = t.utils.data.DataLoader(train_dataset,\n",
    "                                       batch_size=opt.batch_size,\n",
    "                                       shuffle=True,\n",
    "                                       pin_memory=True,\n",
    "                                       num_workers=opt.num_workers)\n",
    "\n",
    "# optimizers\n",
    "enc_params = list(net_enc.parameters()) + list(net_sum.parameters())\n",
    "enc_optim = t.optim.Adam(enc_params, lr=opt.lr)\n",
    "disc_params = list(net_mi_disc.parameters())\n",
    "disc_optim = t.optim.Adam(disc_params, lr=opt.lr)\n",
    "\n",
    "# loss function\n",
    "dim_loss = DIMLoss(l2_penalty=0.0)\n",
    "\n",
    "# visualizer\n",
    "vis = Visualizer(env='InfoMax', port=8000)\n",
    "meter = tnt.meter.AverageValueMeter()"
   ]
  },
  {
   "cell_type": "markdown",
   "metadata": {},
   "source": [
    "## Training entry (visdom [link](http://localhost:8000))"
   ]
  },
  {
   "cell_type": "code",
   "execution_count": null,
   "metadata": {
    "code_folding": [
     1
    ],
    "scrolled": true
   },
   "outputs": [],
   "source": [
    "min_loss = 1e3\n",
    "for epoch in tqdm(range(opt.max_epoch), desc='epoch', total=opt.max_epoch):\n",
    "    # reset loss meter\n",
    "    meter.reset()\n",
    "\n",
    "    for index, (imgs) in enumerate(train_loader):\n",
    "        # copy to opt.device\n",
    "        imgs = imgs.to(opt.device)\n",
    "\n",
    "        # reset gradient\n",
    "        enc_optim.zero_grad()\n",
    "        disc_optim.zero_grad()\n",
    "\n",
    "        # extract local encodings\n",
    "        pred_loc_feats = net_enc(imgs)\n",
    "\n",
    "        # extract global encodings\n",
    "        pred_glb_feats = net_sum(pred_loc_feats)\n",
    "\n",
    "        # compute discriminative encodings\n",
    "        disc_loc_feats, disc_glb_feats = net_mi_disc(pred_loc_feats,\n",
    "                                                     pred_glb_feats)\n",
    "\n",
    "        # update loss\n",
    "        loss = dim_loss(disc_loc_feats, disc_glb_feats)\n",
    "\n",
    "        # run bp and update params\n",
    "        loss.backward()\n",
    "        enc_optim.step()\n",
    "        disc_optim.step()\n",
    "\n",
    "        # add to loss meter for logging\n",
    "        meter.add(loss.item())\n",
    "\n",
    "    # save models if needed\n",
    "    if loss.item() < min_loss:\n",
    "        net_enc.save()\n",
    "        net_sum.save()\n",
    "        min_loss = loss.item()\n",
    "\n",
    "    # show training status\n",
    "    max_val = t.max(imgs[0, :, :, :])\n",
    "    min_val = t.min(imgs[0, :, :, :])\n",
    "    disp_img = (imgs[0, :, :, :] - min_val) / (max_val - min_val)\n",
    "    vis.img('input', disp_img.cpu() * 255)\n",
    "    vis.plot('loss', meter.value()[0])\n",
    "    vis.log('epoch: %d, cur loss: %.2f, min loss: %.2f' %\n",
    "            (epoch, loss.item(), min_loss))"
   ]
  }
 ],
 "metadata": {
  "kernelspec": {
   "display_name": "Python 3 (ipykernel)",
   "language": "python",
   "name": "python3"
  },
  "language_info": {
   "codemirror_mode": {
    "name": "ipython",
    "version": 3
   },
   "file_extension": ".py",
   "mimetype": "text/x-python",
   "name": "python",
   "nbconvert_exporter": "python",
   "pygments_lexer": "ipython3",
   "version": "3.8.16"
  },
  "toc": {
   "nav_menu": {},
   "number_sections": true,
   "sideBar": true,
   "skip_h1_title": true,
   "title_cell": "Table of Contents",
   "title_sidebar": "Contents",
   "toc_cell": false,
   "toc_position": {},
   "toc_section_display": true,
   "toc_window_display": false
  },
  "varInspector": {
   "cols": {
    "lenName": 16,
    "lenType": 16,
    "lenVar": 40
   },
   "kernels_config": {
    "python": {
     "delete_cmd_postfix": "",
     "delete_cmd_prefix": "del ",
     "library": "var_list.py",
     "varRefreshCmd": "print(var_dic_list())"
    },
    "r": {
     "delete_cmd_postfix": ") ",
     "delete_cmd_prefix": "rm(",
     "library": "var_list.r",
     "varRefreshCmd": "cat(var_dic_list()) "
    }
   },
   "types_to_exclude": [
    "module",
    "function",
    "builtin_function_or_method",
    "instance",
    "_Feature"
   ],
   "window_display": false
  }
 },
 "nbformat": 4,
 "nbformat_minor": 2
}
