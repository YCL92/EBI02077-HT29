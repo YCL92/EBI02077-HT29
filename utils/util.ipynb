{
 "cells": [
  {
   "cell_type": "markdown",
   "metadata": {},
   "source": [
    "# Other Useful Functions"
   ]
  },
  {
   "cell_type": "markdown",
   "metadata": {
    "heading_collapsed": true
   },
   "source": [
    "## Includes"
   ]
  },
  {
   "cell_type": "code",
   "execution_count": null,
   "metadata": {
    "code_folding": [
     0
    ],
    "hidden": true
   },
   "outputs": [],
   "source": [
    "# mass includes\n",
    "import math\n",
    "import torch as t\n",
    "import numpy as np\n",
    "from numpy.random import randint, uniform\n",
    "from torch.nn.functional import softplus"
   ]
  },
  {
   "cell_type": "markdown",
   "metadata": {},
   "source": [
    "## Random operations"
   ]
  },
  {
   "cell_type": "code",
   "execution_count": null,
   "metadata": {
    "code_folding": [
     1,
     16
    ]
   },
   "outputs": [],
   "source": [
    "# random cropping\n",
    "def randCrop(in_img, crop_size):\n",
    "    # generate random coordinates\n",
    "    _, hei, wid = in_img.shape\n",
    "    min_dim = min(crop_size, hei - 1, wid - 1)\n",
    "    crop_y = randint(hei - min_dim)\n",
    "    crop_x = randint(wid - min_dim)\n",
    "\n",
    "    # crop to given size\n",
    "    out_img = in_img[:, crop_y:crop_y + crop_size,\n",
    "                     crop_x:crop_x + crop_size].copy()\n",
    "\n",
    "    return out_img\n",
    "\n",
    "\n",
    "# random flipping\n",
    "def randFlip(in_img):\n",
    "    out_img = in_img.copy()\n",
    "\n",
    "    # horizontal\n",
    "    if uniform() > 0.5:\n",
    "        out_img = np.flip(out_img, axis=-1)\n",
    "\n",
    "    # vertical\n",
    "    if uniform() > 0.5:\n",
    "        out_img = np.flip(out_img, axis=-2)\n",
    "\n",
    "    return out_img"
   ]
  },
  {
   "cell_type": "markdown",
   "metadata": {},
   "source": [
    "## Custom functions"
   ]
  },
  {
   "cell_type": "code",
   "execution_count": null,
   "metadata": {
    "code_folding": [
     1
    ]
   },
   "outputs": [],
   "source": [
    "# f-divergence distance between positive and negative joint distributions\n",
    "def calcDIMLoss(loc_feats, glb_feats, loc_masks):\n",
    "    b, n, n_feats, n_locs = loc_feats.size()\n",
    "\n",
    "    # make the input tensors the right shape\n",
    "    loc_feats = loc_feats.permute(0, 1, 3, 2)\n",
    "    glb_feats = glb_feats.permute(0, 1, 3, 2)\n",
    "    loc_masks = loc_masks.permute(0, 1, 3, 2)\n",
    "\n",
    "    # compute the positive scores\n",
    "    err_pos_sum = 0.0\n",
    "    err_pos_cnt = 1e-6\n",
    "    for b_idx in range(b):\n",
    "        b_loc_feats = loc_feats[b_idx, :, :, :].view(n * n_locs, n_feats)\n",
    "        b_glb_feats = glb_feats[b_idx, :, :, :].view(-1, n_feats)\n",
    "        b_loc_masks = loc_masks[b_idx, :, :, :].view(-1, 1)\n",
    "\n",
    "        # outer product scoring\n",
    "        u = t.mm(b_loc_feats, b_glb_feats.t())\n",
    "\n",
    "        # loss for positive samples (JSD)\n",
    "        err_pos = (math.log(2.0) - softplus(-u)) * b_loc_masks\n",
    "\n",
    "        # add to total loss\n",
    "        err_pos_sum = err_pos_sum + t.sum(err_pos)\n",
    "        err_pos_cnt = err_pos_cnt + t.sum(b_loc_masks) * n\n",
    "\n",
    "    # compute negative scores\n",
    "    err_neg_sum = 0.0\n",
    "    err_neg_cnt = 1e-6\n",
    "    for n_idx in range(n):\n",
    "        b_loc_feats = loc_feats[:, n_idx, :, :].reshape(b * n_locs, n_feats)\n",
    "        b_glb_feats = glb_feats[:, n_idx, :, :].reshape(-1, n_feats)\n",
    "        b_loc_masks = loc_masks[:, n_idx, :, :].reshape(-1, 1)\n",
    "\n",
    "        # outer product scoring\n",
    "        u = t.mm(b_loc_feats, b_glb_feats.t())\n",
    "\n",
    "        # loss for negative samples (JSD)\n",
    "        err_neg = (softplus(-u) + u - math.log(2.0)) * b_loc_masks\n",
    "\n",
    "        # remove self MI\n",
    "        neg_mask = 1 - t.eye(b).to(err_neg.device)\n",
    "        err_neg = err_neg.reshape(b, n_locs, b, 1).permute(0, 2, 1, 3)\n",
    "        err_neg = err_neg.sum(2).sum(2) * neg_mask\n",
    "\n",
    "        # add to total loss\n",
    "        err_neg_sum = err_neg_sum + t.sum(err_neg)\n",
    "        err_neg_cnt = err_neg_cnt + t.sum(b_loc_masks) * (b - 1)\n",
    "\n",
    "    # final loss\n",
    "    out_loss = err_neg_sum / err_neg_cnt - err_pos_sum / err_pos_cnt\n",
    "\n",
    "    return out_loss"
   ]
  }
 ],
 "metadata": {
  "kernelspec": {
   "display_name": "Python 3 (ipykernel)",
   "language": "python",
   "name": "python3"
  },
  "language_info": {
   "codemirror_mode": {
    "name": "ipython",
    "version": 3
   },
   "file_extension": ".py",
   "mimetype": "text/x-python",
   "name": "python",
   "nbconvert_exporter": "python",
   "pygments_lexer": "ipython3",
   "version": "3.8.10"
  }
 },
 "nbformat": 4,
 "nbformat_minor": 2
}
